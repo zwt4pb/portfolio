{
  "nbformat": 4,
  "nbformat_minor": 0,
  "metadata": {
    "colab": {
      "provenance": [],
      "authorship_tag": "ABX9TyNMP3ZLhJgTuBvxd7L2WJ2C",
      "include_colab_link": true
    },
    "kernelspec": {
      "name": "python3",
      "display_name": "Python 3"
    },
    "language_info": {
      "name": "python"
    }
  },
  "cells": [
    {
      "cell_type": "markdown",
      "metadata": {
        "id": "view-in-github",
        "colab_type": "text"
      },
      "source": [
        "<a href=\"https://colab.research.google.com/github/zwt4pb/portfolio/blob/main/SSA_Take_Home_Case.ipynb\" target=\"_parent\"><img src=\"https://colab.research.google.com/assets/colab-badge.svg\" alt=\"Open In Colab\"/></a>"
      ]
    },
    {
      "cell_type": "code",
      "execution_count": 30,
      "metadata": {
        "id": "l_UyvlJN2H9p"
      },
      "outputs": [],
      "source": [
        "import pandas as pd\n",
        "from scipy.stats import chi2_contingency\n",
        "\n",
        "file_path = '/content/JC-202306-citibike-tripdata[1].csv'\n",
        "citibike_data = pd.read_csv(file_path)"
      ]
    },
    {
      "cell_type": "code",
      "source": [
        "# Check for missing values\n",
        "missing_data = citibike_data.isnull().sum()\n",
        "print(\"Missing Data Count by Variable:\")\n",
        "print(missing_data)"
      ],
      "metadata": {
        "colab": {
          "base_uri": "https://localhost:8080/"
        },
        "id": "YPkEjGht_k_N",
        "outputId": "678d8528-0564-4308-afd3-031260a22392"
      },
      "execution_count": 31,
      "outputs": [
        {
          "output_type": "stream",
          "name": "stdout",
          "text": [
            "Missing Data Count by Variable:\n",
            "ride_id                 0\n",
            "rideable_type           0\n",
            "started_at              0\n",
            "ended_at                0\n",
            "start_station_name     55\n",
            "start_station_id       55\n",
            "end_station_name      361\n",
            "end_station_id        361\n",
            "start_lat               0\n",
            "start_lng               0\n",
            "end_lat                88\n",
            "end_lng                88\n",
            "member_casual           0\n",
            "dtype: int64\n"
          ]
        }
      ]
    },
    {
      "cell_type": "markdown",
      "source": [
        "There are limitations to this data. I am going to clean it by dropping these unfinished rows and used the cleaned version for the rest of the analysis."
      ],
      "metadata": {
        "id": "FbC9Of_KCxKI"
      }
    },
    {
      "cell_type": "code",
      "source": [
        "citibike_cleaned = citibike_data.dropna()\n",
        "missing_data = citibike_cleaned.isnull().sum()\n",
        "print(\"Missing Data Count by Variable:\")\n",
        "print(missing_data)"
      ],
      "metadata": {
        "colab": {
          "base_uri": "https://localhost:8080/"
        },
        "id": "Kb68s9ZyBZSu",
        "outputId": "3a02713a-09df-47bd-abaa-0ce4ab8ada3b"
      },
      "execution_count": 32,
      "outputs": [
        {
          "output_type": "stream",
          "name": "stdout",
          "text": [
            "Missing Data Count by Variable:\n",
            "ride_id               0\n",
            "rideable_type         0\n",
            "started_at            0\n",
            "ended_at              0\n",
            "start_station_name    0\n",
            "start_station_id      0\n",
            "end_station_name      0\n",
            "end_station_id        0\n",
            "start_lat             0\n",
            "start_lng             0\n",
            "end_lat               0\n",
            "end_lng               0\n",
            "member_casual         0\n",
            "dtype: int64\n"
          ]
        }
      ]
    },
    {
      "cell_type": "code",
      "source": [
        "citibike_cleaned['route'] = citibike_cleaned['start_station_name'] + \" to \" + citibike_cleaned['end_station_name']\n",
        "top5routes = citibike_cleaned['route'].value_counts().nlargest(5)\n",
        "print(\"The 5 most popular routes and their quantities:\")\n",
        "print(top5routes)\n"
      ],
      "metadata": {
        "colab": {
          "base_uri": "https://localhost:8080/"
        },
        "id": "MXoOdBIV2XwX",
        "outputId": "bc1872f2-dcc3-45d9-9800-b1ed14c8054d"
      },
      "execution_count": 33,
      "outputs": [
        {
          "output_type": "stream",
          "name": "stdout",
          "text": [
            "The 5 most popular routes and their quantities:\n",
            "route\n",
            "Hoboken Terminal - Hudson St & Hudson Pl to Hoboken Ave at Monmouth St                          531\n",
            "Grove St PATH to Marin Light Rail                                                               501\n",
            "South Waterfront Walkway - Sinatra Dr & 1 St to South Waterfront Walkway - Sinatra Dr & 1 St    469\n",
            "12 St & Sinatra Dr N to South Waterfront Walkway - Sinatra Dr & 1 St                            451\n",
            "Marin Light Rail to Grove St PATH                                                               441\n",
            "Name: count, dtype: int64\n"
          ]
        },
        {
          "output_type": "stream",
          "name": "stderr",
          "text": [
            "<ipython-input-33-fa41893bd005>:1: SettingWithCopyWarning: \n",
            "A value is trying to be set on a copy of a slice from a DataFrame.\n",
            "Try using .loc[row_indexer,col_indexer] = value instead\n",
            "\n",
            "See the caveats in the documentation: https://pandas.pydata.org/pandas-docs/stable/user_guide/indexing.html#returning-a-view-versus-a-copy\n",
            "  citibike_cleaned['route'] = citibike_cleaned['start_station_name'] + \" to \" + citibike_cleaned['end_station_name']\n"
          ]
        }
      ]
    },
    {
      "cell_type": "code",
      "source": [
        "contingency_table = pd.crosstab(citibike_cleaned['member_casual'], citibike_cleaned['rideable_type'])\n",
        "chi2_stat, p_value, _, _ = chi2_contingency(contingency_table)\n",
        "print(\"Contingency Table:\")\n",
        "print(contingency_table)\n",
        "print(\"p-value:\", p_value)"
      ],
      "metadata": {
        "colab": {
          "base_uri": "https://localhost:8080/"
        },
        "id": "0Blv8N952ld3",
        "outputId": "9d6d9438-5589-4c45-92c3-7e4cdc003037"
      },
      "execution_count": 34,
      "outputs": [
        {
          "output_type": "stream",
          "name": "stdout",
          "text": [
            "Contingency Table:\n",
            "rideable_type  classic_bike  docked_bike  electric_bike\n",
            "member_casual                                          \n",
            "casual                22143          433           5282\n",
            "member                60506            0           8298\n",
            "p-value: 0.0\n"
          ]
        }
      ]
    },
    {
      "cell_type": "markdown",
      "source": [
        "There is a statistically significant association between membership type and the type of bike used."
      ],
      "metadata": {
        "id": "jWNKAVHh_Xhl"
      }
    },
    {
      "cell_type": "code",
      "source": [
        "citibike_cleaned['started_at'] = pd.to_datetime(citibike_cleaned['started_at'])\n",
        "citibike_cleaned['ended_at'] = pd.to_datetime(citibike_cleaned['ended_at'])\n",
        "citibike_cleaned['ride_duration'] = (citibike_cleaned['ended_at'] - citibike_cleaned['started_at']).dt.total_seconds() / 60\n",
        "citibike_cleaned['start_hour'] = citibike_cleaned['started_at'].dt.hour\n",
        "avg_ride_length_by_hour = citibike_cleaned.groupby('start_hour')['ride_duration'].mean()\n",
        "print(\"Average Ride Length by Hour:\")\n",
        "print(avg_ride_length_by_hour)\n"
      ],
      "metadata": {
        "colab": {
          "base_uri": "https://localhost:8080/"
        },
        "id": "AbUdUNfl594O",
        "outputId": "3750a5fb-2cd2-49a8-e5b3-f835b617a072"
      },
      "execution_count": 39,
      "outputs": [
        {
          "output_type": "stream",
          "name": "stdout",
          "text": [
            "Average Ride Length by Hour:\n",
            "start_hour\n",
            "0     13.283021\n",
            "1     19.747754\n",
            "2     19.915869\n",
            "3     12.664678\n",
            "4     12.956479\n",
            "5      7.626480\n",
            "6      6.951190\n",
            "7      7.655251\n",
            "8      8.983350\n",
            "9     10.876922\n",
            "10    14.180819\n",
            "11    13.006059\n",
            "12    12.491760\n",
            "13    12.745132\n",
            "14    12.280714\n",
            "15    12.964654\n",
            "16    11.685383\n",
            "17    11.999161\n",
            "18    11.005849\n",
            "19    11.595289\n",
            "20    13.042484\n",
            "21    13.479206\n",
            "22    13.685090\n",
            "23    15.020393\n",
            "Name: ride_duration, dtype: float64\n"
          ]
        },
        {
          "output_type": "stream",
          "name": "stderr",
          "text": [
            "<ipython-input-39-492736999e60>:1: SettingWithCopyWarning: \n",
            "A value is trying to be set on a copy of a slice from a DataFrame.\n",
            "Try using .loc[row_indexer,col_indexer] = value instead\n",
            "\n",
            "See the caveats in the documentation: https://pandas.pydata.org/pandas-docs/stable/user_guide/indexing.html#returning-a-view-versus-a-copy\n",
            "  citibike_cleaned['started_at'] = pd.to_datetime(citibike_cleaned['started_at'])\n",
            "<ipython-input-39-492736999e60>:2: SettingWithCopyWarning: \n",
            "A value is trying to be set on a copy of a slice from a DataFrame.\n",
            "Try using .loc[row_indexer,col_indexer] = value instead\n",
            "\n",
            "See the caveats in the documentation: https://pandas.pydata.org/pandas-docs/stable/user_guide/indexing.html#returning-a-view-versus-a-copy\n",
            "  citibike_cleaned['ended_at'] = pd.to_datetime(citibike_cleaned['ended_at'])\n",
            "<ipython-input-39-492736999e60>:3: SettingWithCopyWarning: \n",
            "A value is trying to be set on a copy of a slice from a DataFrame.\n",
            "Try using .loc[row_indexer,col_indexer] = value instead\n",
            "\n",
            "See the caveats in the documentation: https://pandas.pydata.org/pandas-docs/stable/user_guide/indexing.html#returning-a-view-versus-a-copy\n",
            "  citibike_cleaned['ride_duration'] = (citibike_cleaned['ended_at'] - citibike_cleaned['started_at']).dt.total_seconds() / 60\n",
            "<ipython-input-39-492736999e60>:4: SettingWithCopyWarning: \n",
            "A value is trying to be set on a copy of a slice from a DataFrame.\n",
            "Try using .loc[row_indexer,col_indexer] = value instead\n",
            "\n",
            "See the caveats in the documentation: https://pandas.pydata.org/pandas-docs/stable/user_guide/indexing.html#returning-a-view-versus-a-copy\n",
            "  citibike_cleaned['start_hour'] = citibike_cleaned['started_at'].dt.hour\n"
          ]
        }
      ]
    },
    {
      "cell_type": "markdown",
      "source": [
        "Average ride durations have an interesting variation. Based on the table above, on average, the longest rides for the month were started in the early hours of the morning from 1 am until 3 A.M. One particular reason for this could be due to smaller sample size of rides at these times, so each ride carried more weight in calculating the average. Times during the day, specifically around lunchtime and typical commuting time (5 pm) had far less variation. This is likely due to a larger sample size of rides occuring at this time."
      ],
      "metadata": {
        "id": "2bedwbyG9zVR"
      }
    },
    {
      "cell_type": "markdown",
      "source": [
        "What is the most interesting analytical output you can generate, what specific number(s) would serve\n",
        "as a “headline” for that output, and what are the potential implications for riders or administrators of the Citibike program?\n",
        "- An analytical output I would like to generate would be mileage for each bike ride. This could be found by using the Haversine formula to calculate the distance in miles and then adding it to a new variable/column. Average mileage could be the headline for this output. Riders and administration would get insights into traffic patterns by comparing the mileage to the duration of the ride, and this could be used to optimize trips for members."
      ],
      "metadata": {
        "id": "kiK9-eHlDYat"
      }
    },
    {
      "cell_type": "markdown",
      "source": [
        "What additional information would you like to have added to this dataset, and what questions would it\n",
        "help you answer?\n",
        "- I would want to add two pieces of information. Number 1, I would like to add employment. I think it would be interesting to see whether there was a relationship between duration, start time, and employment. This would provide insight into what the main uses of the bikes are. Additionally, I would like to information on the weather that day. I think weather has a direct impact on whether or not a user takes a bike that day, so it could be interesting to see the relationship between weather and number of trips."
      ],
      "metadata": {
        "id": "9Z6EwdatEbvP"
      }
    }
  ]
}